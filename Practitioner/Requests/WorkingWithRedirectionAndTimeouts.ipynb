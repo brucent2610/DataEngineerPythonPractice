{
 "cells": [
  {
   "cell_type": "markdown",
   "metadata": {},
   "source": [
    "# Working with Redirection and History"
   ]
  },
  {
   "cell_type": "code",
   "execution_count": 3,
   "metadata": {},
   "outputs": [
    {
     "name": "stdout",
     "output_type": "stream",
     "text": [
      "http://127.0.0.1:8000/old-route\n",
      "307\n"
     ]
    }
   ],
   "source": [
    "import requests\n",
    "\n",
    "response = requests.get(\n",
    "    'http://127.0.0.1:8000/old-route'\n",
    ")\n",
    "\n",
    "# print(response.history)\n",
    "# print(response.url)\n",
    "# print(response.status_code)\n",
    "# print(response.text)\n",
    "\n",
    "for resp in response.history:\n",
    "    print(resp.url)\n",
    "    print(resp.status_code)"
   ]
  },
  {
   "cell_type": "markdown",
   "metadata": {},
   "source": [
    "# Setting Timeouts"
   ]
  },
  {
   "cell_type": "code",
   "execution_count": 10,
   "metadata": {},
   "outputs": [
    {
     "name": "stdout",
     "output_type": "stream",
     "text": [
      "Read timeout\n"
     ]
    }
   ],
   "source": [
    "import requests\n",
    "\n",
    "# second (5,3) connection timeout 5s, read timeout 3s\n",
    "\n",
    "try:\n",
    "    response = requests.get(\n",
    "        'http://127.0.0.1:8000/slow-response',\n",
    "        timeout=(5, 3)\n",
    "    )\n",
    "    print(response.json())\n",
    "except requests.exceptions.ConnectTimeout:\n",
    "    print('Connection timeout')\n",
    "except requests.exceptions.ReadTimeout:\n",
    "    print('Read timeout')\n",
    "except requests.exceptions.Timeout:\n",
    "    print('Timeout')"
   ]
  },
  {
   "cell_type": "markdown",
   "metadata": {},
   "source": []
  }
 ],
 "metadata": {
  "kernelspec": {
   "display_name": "base",
   "language": "python",
   "name": "python3"
  },
  "language_info": {
   "codemirror_mode": {
    "name": "ipython",
    "version": 3
   },
   "file_extension": ".py",
   "mimetype": "text/x-python",
   "name": "python",
   "nbconvert_exporter": "python",
   "pygments_lexer": "ipython3",
   "version": "3.10.11"
  }
 },
 "nbformat": 4,
 "nbformat_minor": 2
}
