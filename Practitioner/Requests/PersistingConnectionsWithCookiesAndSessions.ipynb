{
 "cells": [
  {
   "cell_type": "markdown",
   "metadata": {},
   "source": [
    "# Sending and Receiving Cookies"
   ]
  },
  {
   "cell_type": "code",
   "execution_count": 10,
   "metadata": {},
   "outputs": [
    {
     "name": "stderr",
     "output_type": "stream",
     "text": [
      "DEBUG:urllib3.connectionpool:Starting new HTTP connection (1): 127.0.0.1:8000\n",
      "DEBUG:urllib3.connectionpool:http://127.0.0.1:8000 \"GET /api/cookies HTTP/1.1\" 200 16\n"
     ]
    },
    {
     "name": "stdout",
     "output_type": "stream",
     "text": [
      "{'user_id': '2'}\n",
      "2\n"
     ]
    }
   ],
   "source": [
    "import requests\n",
    "\n",
    "custom_cookie = {\"user_id\": \"2\"}\n",
    "\n",
    "response = requests.get(\n",
    "    \"http://127.0.0.1:8000/api/cookies\", \n",
    "    cookies=custom_cookie\n",
    ")\n",
    "\n",
    "print(response.cookies.get_dict())\n",
    "print(response.cookies[\"user_id\"])\n"
   ]
  },
  {
   "cell_type": "markdown",
   "metadata": {},
   "source": [
    "# Persisting Connections with Sessions"
   ]
  },
  {
   "cell_type": "code",
   "execution_count": 13,
   "metadata": {},
   "outputs": [
    {
     "name": "stderr",
     "output_type": "stream",
     "text": [
      "DEBUG:urllib3.connectionpool:Starting new HTTP connection (1): 127.0.0.1:8000\n",
      "DEBUG:urllib3.connectionpool:http://127.0.0.1:8000 \"POST /api/login HTTP/1.1\" 200 30\n",
      "DEBUG:urllib3.connectionpool:http://127.0.0.1:8000 \"GET /protected HTTP/1.1\" 200 53\n"
     ]
    },
    {
     "name": "stdout",
     "output_type": "stream",
     "text": [
      "Protected route:\n",
      "200\n",
      "{\"message\":\"You have access to this protected route\"}\n"
     ]
    }
   ],
   "source": [
    "import requests\n",
    "\n",
    "with requests.Session() as session:\n",
    "    credentials = {\"username\": \"some_name\", \"password\": \"pass\"}\n",
    "    \n",
    "    session.post(\n",
    "        \"http://127.0.0.1:8000/api/login\",\n",
    "        data=credentials\n",
    "    )\n",
    "\n",
    "    response = session.get(\n",
    "        \"http://127.0.0.1:8000/protected\"\n",
    "    )\n",
    "\n",
    "    print(\"Protected route:\")\n",
    "    print(response.status_code)\n",
    "    print(response.text)\n",
    "                                  "
   ]
  },
  {
   "cell_type": "markdown",
   "metadata": {},
   "source": [
    "# Retrying Failed Connections with Transport Adapters"
   ]
  },
  {
   "cell_type": "code",
   "execution_count": 14,
   "metadata": {},
   "outputs": [
    {
     "name": "stderr",
     "output_type": "stream",
     "text": [
      "DEBUG:urllib3.connectionpool:Starting new HTTP connection (1): 127.0.0.1:8000\n",
      "DEBUG:urllib3.connectionpool:http://127.0.0.1:8000 \"GET /flaky HTTP/1.1\" 200 21\n"
     ]
    },
    {
     "name": "stdout",
     "output_type": "stream",
     "text": [
      "Final response: 200\n"
     ]
    }
   ],
   "source": [
    "import logging\n",
    "import requests\n",
    "from requests.adapters import HTTPAdapter\n",
    "from requests.exceptions import RetryError\n",
    "from urllib3.util.retry import Retry    \n",
    "\n",
    "logging.basicConfig(level=logging.DEBUG)\n",
    "request_log = logging.getLogger(\"urllib3\")\n",
    "request_log.setLevel(logging.DEBUG)\n",
    "request_log.propagate = True\n",
    "\n",
    "session = requests.Session()\n",
    "retries = Retry(total=3, backoff_factor=0.1, status_forcelist=[500], allowed_methods={\"GET\"})\n",
    "session.mount(\"http://127.0.0.1\", HTTPAdapter(max_retries=retries))\n",
    "\n",
    "try:\n",
    "    response = session.get(\"http://127.0.0.1:8000/flaky\")\n",
    "    print(\"Final response:\", response.status_code)\n",
    "\n",
    "except RetryError as e:\n",
    "    print(\"Maximal number of retries exceeded. Server seems to be down.\")"
   ]
  }
 ],
 "metadata": {
  "kernelspec": {
   "display_name": "base",
   "language": "python",
   "name": "python3"
  },
  "language_info": {
   "codemirror_mode": {
    "name": "ipython",
    "version": 3
   },
   "file_extension": ".py",
   "mimetype": "text/x-python",
   "name": "python",
   "nbconvert_exporter": "python",
   "pygments_lexer": "ipython3",
   "version": "3.10.11"
  }
 },
 "nbformat": 4,
 "nbformat_minor": 2
}
