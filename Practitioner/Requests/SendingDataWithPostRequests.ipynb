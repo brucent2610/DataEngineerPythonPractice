{
 "cells": [
  {
   "cell_type": "markdown",
   "metadata": {},
   "source": [
    "# Working with Form Data"
   ]
  },
  {
   "cell_type": "code",
   "execution_count": 5,
   "metadata": {},
   "outputs": [
    {
     "name": "stdout",
     "output_type": "stream",
     "text": [
      "303\n",
      "application/x-www-form-urlencoded\n",
      "name=Another+item&price=44\n"
     ]
    }
   ],
   "source": [
    "import requests\n",
    "\n",
    "response = requests.post(\n",
    "    'http://127.0.0.1:8000/items/new',\n",
    "    data={\"name\":\"Another item\", \"price\": 44},\n",
    "    allow_redirects=False\n",
    ")\n",
    "\n",
    "# allow redirect false because form submit will redirect to get request\n",
    "print(response.status_code)\n",
    "print(response.request.headers[\"content-type\"])\n",
    "print(response.request.body)\n"
   ]
  },
  {
   "cell_type": "markdown",
   "metadata": {},
   "source": [
    "# Working with JSON Data"
   ]
  },
  {
   "cell_type": "code",
   "execution_count": 7,
   "metadata": {},
   "outputs": [
    {
     "name": "stdout",
     "output_type": "stream",
     "text": [
      "200\n",
      "application/json\n",
      "{'name': 'Some item', 'price': 22.0}\n"
     ]
    }
   ],
   "source": [
    "import requests\n",
    "\n",
    "response = requests.post(\n",
    "    'http://127.0.0.1:8000/api/items',\n",
    "    json={\"name\":\"Some item\", \"price\": 22}\n",
    ")\n",
    "\n",
    "# allow redirect false because form submit will redirect to get request\n",
    "print(response.status_code)\n",
    "print(response.request.headers[\"content-type\"])\n",
    "print(response.json())\n"
   ]
  },
  {
   "cell_type": "markdown",
   "metadata": {},
   "source": [
    "# Working with XML and Other Types of Data"
   ]
  },
  {
   "cell_type": "code",
   "execution_count": 9,
   "metadata": {},
   "outputs": [
    {
     "name": "stdout",
     "output_type": "stream",
     "text": [
      "\n",
      "        <response>\n",
      "            <name>Some item</name>\n",
      "            <price>300</price>\n",
      "        </response>\n",
      "        \n",
      "Some item\n",
      "300\n"
     ]
    }
   ],
   "source": [
    "import requests\n",
    "import xml.etree.ElementTree as ET\n",
    "\n",
    "message_body = \"\"\"\n",
    "<item>\n",
    "    <name>Some item</name>\n",
    "    <price>300</price>\n",
    "</item>\n",
    "\"\"\"\n",
    "\n",
    "response = requests.post(\n",
    "    \"http://127.0.0.1:8000/api/items/xml\",\n",
    "    data=message_body,\n",
    "    headers={\"Content-Type\": \"application/xml\"}\n",
    ")\n",
    "\n",
    "print(response.text)\n",
    "print(ET.fromstring(response.text).find(\"name\").text)\n",
    "print(ET.fromstring(response.text).find(\"price\").text)"
   ]
  },
  {
   "cell_type": "markdown",
   "metadata": {},
   "source": [
    "# Uploading Files with POST Requests"
   ]
  },
  {
   "cell_type": "code",
   "execution_count": 13,
   "metadata": {},
   "outputs": [
    {
     "name": "stdout",
     "output_type": "stream",
     "text": [
      "{'uploaded_files': ['file1', 'file2']}\n"
     ]
    }
   ],
   "source": [
    "import requests\n",
    "\n",
    "file1 = open(\"file1.csv\", \"rb\")\n",
    "file2 = open(\"file2.csv\", \"rb\")\n",
    "\n",
    "files = [\n",
    "    (\"files\", (\"file1\", file1, \"text/csv\")),\n",
    "    (\"files\", (\"file2\", file2, \"text/csv\")),\n",
    "]\n",
    "\n",
    "response = requests.post(\n",
    "    \"http://127.0.0.1:8000/upload-files\",\n",
    "    files=files\n",
    ")\n",
    "\n",
    "file1.close()\n",
    "file2.close()\n",
    "\n",
    "print(response.json())"
   ]
  },
  {
   "cell_type": "markdown",
   "metadata": {},
   "source": [
    "# Using Other HTTP Methods"
   ]
  },
  {
   "cell_type": "code",
   "execution_count": 14,
   "metadata": {},
   "outputs": [
    {
     "name": "stdout",
     "output_type": "stream",
     "text": [
      "{'name': 'Some item PUT', 'price': 22.0}\n"
     ]
    }
   ],
   "source": [
    "import requests\n",
    "\n",
    "response = requests.put(\n",
    "    \"http://127.0.0.1:8000/api/items/1\",\n",
    "    json={\"name\":\"Some item PUT\", \"price\": 22}\n",
    ")\n",
    "\n",
    "print(response.json())"
   ]
  },
  {
   "cell_type": "code",
   "execution_count": null,
   "metadata": {},
   "outputs": [],
   "source": [
    "import requests\n",
    "\n",
    "response = requests.delete(\n",
    "    \"http://127.0.0.1:8000/api/items/0\"\n",
    ")\n",
    "\n",
    "print(response.json())"
   ]
  }
 ],
 "metadata": {
  "kernelspec": {
   "display_name": "Python 3",
   "language": "python",
   "name": "python3"
  },
  "language_info": {
   "codemirror_mode": {
    "name": "ipython",
    "version": 3
   },
   "file_extension": ".py",
   "mimetype": "text/x-python",
   "name": "python",
   "nbconvert_exporter": "python",
   "pygments_lexer": "ipython3",
   "version": "3.10.11"
  }
 },
 "nbformat": 4,
 "nbformat_minor": 2
}
