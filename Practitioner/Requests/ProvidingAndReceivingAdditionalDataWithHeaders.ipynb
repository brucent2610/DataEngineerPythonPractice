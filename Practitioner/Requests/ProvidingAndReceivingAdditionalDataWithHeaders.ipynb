{
 "cells": [
  {
   "cell_type": "markdown",
   "metadata": {},
   "source": [
    "# Analyzing Response Headers"
   ]
  },
  {
   "cell_type": "code",
   "execution_count": 2,
   "metadata": {},
   "outputs": [
    {
     "name": "stdout",
     "output_type": "stream",
     "text": [
      "{'date': 'Thu, 21 Mar 2024 06:21:12 GMT', 'server': 'uvicorn', 'content-length': '663', 'content-type': 'application/json'}\n",
      "application/json\n",
      "application/json\n"
     ]
    }
   ],
   "source": [
    "import requests\n",
    "\n",
    "response = requests.get(\n",
    "    \"http://127.0.0.1:8000/api/items\"\n",
    ")\n",
    "\n",
    "print(response.headers)\n",
    "print(response.headers[\"content-type\"])\n",
    "print(response.headers[\"Content-Type\"])"
   ]
  },
  {
   "cell_type": "markdown",
   "metadata": {},
   "source": [
    "# Customizing Request Headers"
   ]
  },
  {
   "cell_type": "code",
   "execution_count": null,
   "metadata": {},
   "outputs": [],
   "source": [
    "import requests\n",
    "\n",
    "custome_header = {\n",
    "    \"Authorization\": \"Bearet ACCESS_TOKEN\",\n",
    "    \"Accept\": \"application/json\"\n",
    "}"
   ]
  }
 ],
 "metadata": {
  "kernelspec": {
   "display_name": "base",
   "language": "python",
   "name": "python3"
  },
  "language_info": {
   "codemirror_mode": {
    "name": "ipython",
    "version": 3
   },
   "file_extension": ".py",
   "mimetype": "text/x-python",
   "name": "python",
   "nbconvert_exporter": "python",
   "pygments_lexer": "ipython3",
   "version": "3.10.11"
  }
 },
 "nbformat": 4,
 "nbformat_minor": 2
}
