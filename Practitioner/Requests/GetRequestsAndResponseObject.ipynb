{
 "cells": [
  {
   "cell_type": "markdown",
   "metadata": {},
   "source": [
    "# Initiating the GET Requests"
   ]
  },
  {
   "cell_type": "code",
   "execution_count": 21,
   "metadata": {},
   "outputs": [
    {
     "name": "stdout",
     "output_type": "stream",
     "text": [
      "<Response [200]>\n"
     ]
    }
   ],
   "source": [
    "import requests\n",
    "\n",
    "response = requests.get('http://localhost:8000/api/items')\n",
    "print(response)"
   ]
  },
  {
   "cell_type": "markdown",
   "metadata": {},
   "source": [
    "# Analyzing the Response's Status Code"
   ]
  },
  {
   "cell_type": "code",
   "execution_count": 22,
   "metadata": {},
   "outputs": [
    {
     "name": "stdout",
     "output_type": "stream",
     "text": [
      "<Response [200]>\n",
      "200\n",
      "Success\n"
     ]
    }
   ],
   "source": [
    "import requests\n",
    "\n",
    "response = requests.get('http://localhost:8000/api/items')\n",
    "print(response)\n",
    "print(response.status_code)\n",
    "\n",
    "# Should be check staus code\n",
    "if response.status_code == 200:\n",
    "    print(\"Success\")\n",
    "elif response.status_code == 404:\n",
    "    print(\"Not Found\")\n",
    "elif response.status_code == 500:\n",
    "    print(\"Server Error\")"
   ]
  },
  {
   "cell_type": "markdown",
   "metadata": {},
   "source": [
    "# Handling HTTP Error Exceptions"
   ]
  },
  {
   "cell_type": "code",
   "execution_count": 23,
   "metadata": {},
   "outputs": [
    {
     "name": "stdout",
     "output_type": "stream",
     "text": [
      "HTTP error occurred: 404 Client Error: Not Found for url: http://localhost:8000/something\n"
     ]
    }
   ],
   "source": [
    "import requests\n",
    "\n",
    "try:\n",
    "    response = requests.get('http://localhost:8000/something')\n",
    "    response.raise_for_status()\n",
    "except requests.exceptions.HTTPError as http_err:\n",
    "    print(f\"HTTP error occurred: {http_err}\")\n",
    "except Exception as err:\n",
    "    print(f\"An error occurred: {err}\")\n",
    "else:\n",
    "    print(response.status_code)"
   ]
  },
  {
   "cell_type": "markdown",
   "metadata": {},
   "source": [
    "# Inspecting the Response Object   "
   ]
  },
  {
   "cell_type": "code",
   "execution_count": 24,
   "metadata": {},
   "outputs": [
    {
     "name": "stdout",
     "output_type": "stream",
     "text": [
      "<Response [200]>\n",
      "Raw Payload\n",
      "b'[{\"name\":\"Foo\",\"price\":23.45},{\"name\":\"Bar\",\"price\":67.89},{\"name\":\"Baz\",\"price\":12.34},{\"name\":\"Qux\",\"price\":56.78},{\"name\":\"Quux\",\"price\":45.67},{\"name\":\"Corge\",\"price\":78.9},{\"name\":\"Grault\",\"price\":90.12},{\"name\":\"Garply\",\"price\":34.56},{\"name\":\"Waldo\",\"price\":89.01},{\"name\":\"Fred\",\"price\":67.23},{\"name\":\"Plugh\",\"price\":45.89},{\"name\":\"Xyzzy\",\"price\":23.78},{\"name\":\"Thud\",\"price\":90.23}]'\n",
      "Hexadecimal number system Payload\n",
      "5b7b226e616d65223a22466f6f222c227072696365223a32332e34357d2c7b226e616d65223a22426172222c227072696365223a36372e38397d2c7b226e616d65223a2242617a222c227072696365223a31322e33347d2c7b226e616d65223a22517578222c227072696365223a35362e37387d2c7b226e616d65223a2251757578222c227072696365223a34352e36377d2c7b226e616d65223a22436f726765222c227072696365223a37382e397d2c7b226e616d65223a22477261756c74222c227072696365223a39302e31327d2c7b226e616d65223a22476172706c79222c227072696365223a33342e35367d2c7b226e616d65223a2257616c646f222c227072696365223a38392e30317d2c7b226e616d65223a2246726564222c227072696365223a36372e32337d2c7b226e616d65223a22506c756768222c227072696365223a34352e38397d2c7b226e616d65223a2258797a7a79222c227072696365223a32332e37387d2c7b226e616d65223a2254687564222c227072696365223a39302e32337d5d\n",
      "String Payload\n",
      "[{\"name\":\"Foo\",\"price\":23.45},{\"name\":\"Bar\",\"price\":67.89},{\"name\":\"Baz\",\"price\":12.34},{\"name\":\"Qux\",\"price\":56.78},{\"name\":\"Quux\",\"price\":45.67},{\"name\":\"Corge\",\"price\":78.9},{\"name\":\"Grault\",\"price\":90.12},{\"name\":\"Garply\",\"price\":34.56},{\"name\":\"Waldo\",\"price\":89.01},{\"name\":\"Fred\",\"price\":67.23},{\"name\":\"Plugh\",\"price\":45.89},{\"name\":\"Xyzzy\",\"price\":23.78},{\"name\":\"Thud\",\"price\":90.23}]\n",
      "Header Content Type\n",
      "application/json\n",
      "JSON Payload\n",
      "[{'name': 'Foo', 'price': 23.45}, {'name': 'Bar', 'price': 67.89}, {'name': 'Baz', 'price': 12.34}, {'name': 'Qux', 'price': 56.78}, {'name': 'Quux', 'price': 45.67}, {'name': 'Corge', 'price': 78.9}, {'name': 'Grault', 'price': 90.12}, {'name': 'Garply', 'price': 34.56}, {'name': 'Waldo', 'price': 89.01}, {'name': 'Fred', 'price': 67.23}, {'name': 'Plugh', 'price': 45.89}, {'name': 'Xyzzy', 'price': 23.78}, {'name': 'Thud', 'price': 90.23}]\n",
      "Bar\n"
     ]
    }
   ],
   "source": [
    "import requests\n",
    "\n",
    "response = requests.get('http://localhost:8000/api/items')\n",
    "print(response)\n",
    "print(\"Raw Payload\")\n",
    "# b letter in the beginning of the string means its a byte string, we can not work with it directly\n",
    "print(response.content)\n",
    "print(\"Hexadecimal number system Payload\")\n",
    "# Hex useful if working with special encoding, binary data.\n",
    "print(response.content.hex())\n",
    "print(\"String Payload\")\n",
    "print(response.text)\n",
    "print(\"Header Content Type\")\n",
    "print(response.headers['Content-Type'])\n",
    "print(\"JSON Payload\")\n",
    "print(response.json())\n",
    "print(response.json()[1][\"name\"])"
   ]
  },
  {
   "cell_type": "markdown",
   "metadata": {},
   "source": [
    "# Passing Values through Query String Parameters"
   ]
  },
  {
   "cell_type": "code",
   "execution_count": 25,
   "metadata": {},
   "outputs": [
    {
     "name": "stdout",
     "output_type": "stream",
     "text": [
      "[{'name': 'Garply', 'price': 34.56}, {'name': 'Xyzzy', 'price': 23.78}]\n"
     ]
    }
   ],
   "source": [
    "import requests\n",
    "\n",
    "query = {'offset': 2, 'limit': 2, 'max_price': 40}\n",
    "response = requests.get(\n",
    "    'http://localhost:8000/api/items', \n",
    "    params=query\n",
    ")\n",
    "print(response.json())"
   ]
  },
  {
   "cell_type": "markdown",
   "metadata": {},
   "source": [
    "# Assigning Event Hooks "
   ]
  },
  {
   "cell_type": "code",
   "execution_count": 28,
   "metadata": {},
   "outputs": [
    {
     "name": "stdout",
     "output_type": "stream",
     "text": [
      "Requested URL: http://localhost:8000/api/items\n"
     ]
    }
   ],
   "source": [
    "# Use case that comes to mind is some kind of a custom logging system, where you want to log the request and response data.\n",
    "# Hook helps to see what's going on in more detail\n",
    "# Hooks are good for debugging, logging, catch redirects, and custom authentication.\n",
    "import requests\n",
    "\n",
    "def log_url(response, *args, **kwargs):\n",
    "    print(f\"Requested URL: {response.url}\")\n",
    "\n",
    "response = requests.get(\n",
    "    'http://localhost:8000/api/items',\n",
    "    hooks= {\"response\": log_url}\n",
    ")"
   ]
  }
 ],
 "metadata": {
  "kernelspec": {
   "display_name": "Python 3",
   "language": "python",
   "name": "python3"
  },
  "language_info": {
   "codemirror_mode": {
    "name": "ipython",
    "version": 3
   },
   "file_extension": ".py",
   "mimetype": "text/x-python",
   "name": "python",
   "nbconvert_exporter": "python",
   "pygments_lexer": "ipython3",
   "version": "3.10.11"
  }
 },
 "nbformat": 4,
 "nbformat_minor": 2
}
