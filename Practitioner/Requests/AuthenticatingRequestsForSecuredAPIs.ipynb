{
 "cells": [
  {
   "cell_type": "markdown",
   "metadata": {},
   "source": [
    "# Using HTTP Basic Authentication"
   ]
  },
  {
   "cell_type": "code",
   "execution_count": 2,
   "metadata": {},
   "outputs": [
    {
     "name": "stdout",
     "output_type": "stream",
     "text": [
      "{\"message\":\"Welcome, authenticated user!\"}\n"
     ]
    }
   ],
   "source": [
    "import requests\n",
    "from requests.auth import HTTPBasicAuth\n",
    "\n",
    "username = \"username\"\n",
    "password = \"pass\"\n",
    "\n",
    "response = requests.get(\n",
    "    \"http://127.0.0.1:8000/protected-endpoint\",\n",
    "    auth=HTTPBasicAuth(username, password)\n",
    ")\n",
    "\n",
    "print(response.text)"
   ]
  },
  {
   "cell_type": "markdown",
   "metadata": {},
   "source": [
    "# JWTAuth"
   ]
  },
  {
   "cell_type": "code",
   "execution_count": 6,
   "metadata": {},
   "outputs": [
    {
     "name": "stdout",
     "output_type": "stream",
     "text": [
      "{\"message\":\"Access to protected route granted\"}\n"
     ]
    }
   ],
   "source": [
    "import requests\n",
    "from requests.auth import AuthBase\n",
    "\n",
    "class JWTAuth(AuthBase):\n",
    "    def __init__(self, token):\n",
    "        self.token = token\n",
    "\n",
    "    def __call__(self, request):\n",
    "        request.headers[\"Authorization\"] = f\"Bearer {self.token}\"\n",
    "        return request \n",
    "    \n",
    "token = \"abcde123\"\n",
    "response = requests.get(\n",
    "    \"http://127.0.0.1:8000/jwt-protected-route\",\n",
    "    auth=JWTAuth(token)\n",
    ")\n",
    "print(response.text)"
   ]
  },
  {
   "cell_type": "markdown",
   "metadata": {},
   "source": [
    "# Ensure Data Privacy with HTTPS"
   ]
  },
  {
   "cell_type": "code",
   "execution_count": null,
   "metadata": {},
   "outputs": [],
   "source": [
    "# Using TLS by default. If the verification failed, it will raise a SSLError\n",
    "# Disable verification if needed (not recommended for production)\n",
    "response = requests.get(\n",
    "    \"https://example.com\",\n",
    "    verify=False\n",
    ")\n",
    "# Provide a custom CA bundle if needed\n",
    "response = requests.get(\n",
    "    \"https://example.com\",\n",
    "    verify=\"/path/to/ca-bundle.pem\"\n",
    ")\n",
    "# Some servers require client certificates \n",
    "response = requests.get(\n",
    "    \"https://example.com\",\n",
    "    cert=(\"/path/to/client-cert.pem\", \"/path/to/client-key.pem\")\n",
    ")"
   ]
  }
 ],
 "metadata": {
  "kernelspec": {
   "display_name": "base",
   "language": "python",
   "name": "python3"
  },
  "language_info": {
   "codemirror_mode": {
    "name": "ipython",
    "version": 3
   },
   "file_extension": ".py",
   "mimetype": "text/x-python",
   "name": "python",
   "nbconvert_exporter": "python",
   "pygments_lexer": "ipython3",
   "version": "3.10.11"
  }
 },
 "nbformat": 4,
 "nbformat_minor": 2
}
